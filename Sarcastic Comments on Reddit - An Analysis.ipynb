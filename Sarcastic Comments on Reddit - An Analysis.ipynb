{
 "cells": [
  {
   "cell_type": "markdown",
   "metadata": {},
   "source": [
    "Nour Mansour and Juan Estrella"
   ]
  },
  {
   "cell_type": "code",
   "execution_count": 62,
   "metadata": {},
   "outputs": [],
   "source": [
    "import pandas as pd\n",
    "import numpy as np\n",
    "import matplotlib.pyplot as plt\n",
    "#import seaborn as sns"
   ]
  },
  {
   "cell_type": "markdown",
   "metadata": {},
   "source": [
    "Part 1: Data Collection\n",
    "\n",
    "Step 1: Get the tsv data"
   ]
  },
  {
   "cell_type": "code",

   "execution_count": 2,
   "metadata": {
    "scrolled": true
   },
   "outputs": [],
   "source": [
    "# Data is saved in the same folder as the project. Then read data from tsv file\n",
    "data = pd.read_csv(\"train-balanced-sarcasm.csv\")"
   ]
  },
  {
   "cell_type": "markdown",
   "metadata": {},
   "source": [
    "Part 2: Data Processing\n",
    "\n",
    "Step 1: Columns required: Label, Comments, subreddit, parent comment\n",
    "\n",
    "Step 2: Create a Dataframe containing an even amount of sarcastic and non sarcastic \n",
    "comments, amount of data is 505413 each. "
   ]
  },
  {
   "cell_type": "code",
   "execution_count": 3,
   "metadata": {},
   "outputs": [
    {
     "data": {
      "text/html": [
       "<div>\n",
       "<style scoped>\n",
       "    .dataframe tbody tr th:only-of-type {\n",
       "        vertical-align: middle;\n",
       "    }\n",
       "\n",
       "    .dataframe tbody tr th {\n",
       "        vertical-align: top;\n",
       "    }\n",
       "\n",
       "    .dataframe thead th {\n",
       "        text-align: right;\n",
       "    }\n",
       "</style>\n",
       "<table border=\"1\" class=\"dataframe\">\n",
       "  <thead>\n",
       "    <tr style=\"text-align: right;\">\n",
       "      <th></th>\n",
       "      <th>label</th>\n",
       "      <th>comment</th>\n",
       "    </tr>\n",
       "  </thead>\n",
       "  <tbody>\n",
       "    <tr>\n",
       "      <th>0</th>\n",
       "      <td>0</td>\n",
       "      <td>NC and NH.</td>\n",
       "    </tr>\n",
       "    <tr>\n",
       "      <th>1</th>\n",
       "      <td>0</td>\n",
       "      <td>You do know west teams play against west teams...</td>\n",
       "    </tr>\n",
       "    <tr>\n",
       "      <th>2</th>\n",
       "      <td>0</td>\n",
       "      <td>They were underdogs earlier today, but since G...</td>\n",
       "    </tr>\n",
       "    <tr>\n",
       "      <th>3</th>\n",
       "      <td>0</td>\n",
       "      <td>This meme isn't funny none of the \"new york ni...</td>\n",
       "    </tr>\n",
       "    <tr>\n",
       "      <th>4</th>\n",
       "      <td>0</td>\n",
       "      <td>I could use one of those tools.</td>\n",

       "    </tr>\n",
       "  </tbody>\n",
       "</table>\n",
       "</div>"
      ],
      "text/plain": [

       "   label                                            comment\n",
       "0      0                                         NC and NH.\n",
       "1      0  You do know west teams play against west teams...\n",
       "2      0  They were underdogs earlier today, but since G...\n",
       "3      0  This meme isn't funny none of the \"new york ni...\n",
       "4      0                    I could use one of those tools."
      ]
     },
     "execution_count": 108,
     "metadata": {},
     "output_type": "execute_result"
    }
   ],
   "source": [

    "# Reset the indices after rows with NA values are dropped\n",
    "data.dropna(inplace=True)\n",
    "data.drop(['author', 'score', 'ups', 'downs', 'date', 'created_utc', 'subreddit', 'parent_comment'], axis = 1, inplace = True)\n",
    "data.reset_index(inplace = True)\n",
    "data.drop(['index'], axis = 1, inplace = True)\n",
    "data.head()"
   ]
  },
  {
   "cell_type": "code",

   "execution_count": 4,
   "metadata": {},
   "outputs": [],
   "source": [
    "#data.groupby('label').describe()"
   ]
  },
  {
   "cell_type": "markdown",
   "metadata": {},
   "outputs": [],
   "source": [

    "We really wanted to use the entire dataset, unfortunately our laptops weren't strong enough to perform the different types of data manipulation and analysis we wanted. \n",
    "As a solution, we decided to sample 10% of the dataset each time we ran the program. 10% was actually the largest sample we could get without our Jupyter kernel dying from overflowing Docker's allocated memory resources (we set the memory for Docker to the max value possible given our laptops' specs!). "
   ]
  },
  {
   "cell_type": "code",

   "execution_count": 5,
   "metadata": {},
   "outputs": [
    {
     "data": {
      "text/html": [
       "<div>\n",
       "<style scoped>\n",
       "    .dataframe tbody tr th:only-of-type {\n",
       "        vertical-align: middle;\n",
       "    }\n",
       "\n",
       "    .dataframe tbody tr th {\n",
       "        vertical-align: top;\n",
       "    }\n",
       "\n",
       "    .dataframe thead th {\n",
       "        text-align: right;\n",
       "    }\n",
       "</style>\n",
       "<table border=\"1\" class=\"dataframe\">\n",
       "  <thead>\n",
       "    <tr style=\"text-align: right;\">\n",
       "      <th></th>\n",
       "      <th></th>\n",
       "      <th>label</th>\n",
       "      <th>comment</th>\n",
       "    </tr>\n",
       "  </thead>\n",
       "  <tbody>\n",
       "    <tr>\n",
       "      <th rowspan=\"5\" valign=\"top\">0</th>\n",
       "      <th>11693</th>\n",
       "      <td>0</td>\n",
       "      <td>Well, that'll teach you what neutrality gets you.</td>\n",
       "    </tr>\n",
       "    <tr>\n",
       "      <th>290546</th>\n",
       "      <td>0</td>\n",
       "      <td>Sorry!</td>\n",
       "    </tr>\n",
       "    <tr>\n",
       "      <th>734579</th>\n",
       "      <td>0</td>\n",
       "      <td>TIL that someone was able to win a game of mon...</td>\n",
       "    </tr>\n",
       "    <tr>\n",
       "      <th>403934</th>\n",
       "      <td>0</td>\n",
       "      <td>Go do it outside a school and see</td>\n",
       "    </tr>\n",
       "    <tr>\n",
       "      <th>993220</th>\n",
       "      <td>0</td>\n",
       "      <td>Im just knocked out.</td>\n",
       "    </tr>\n",
       "  </tbody>\n",
       "</table>\n",
       "</div>"
      ],
      "text/plain": [
       "          label                                            comment\n",
       "0 11693       0  Well, that'll teach you what neutrality gets you.\n",
       "  290546      0                                             Sorry!\n",
       "  734579      0  TIL that someone was able to win a game of mon...\n",
       "  403934      0                  Go do it outside a school and see\n",
       "  993220      0                               Im just knocked out."
      ]
     },
     "execution_count": 5,
     "metadata": {},
     "output_type": "execute_result"
    }
   ],
   "source": [
    "# Determine size and replacement values\n",
    "size = int(len(data)*7.5/100)# sample size\n",
    "replace = True  # with replacement\n",
    "# Function used to pick random rows from the dataset\n",
    "# We used the groupby('label') function to choose equal numbers \n",
    "# of sarcastic and non-sarcastic comments\n",
    "fun = lambda obj: obj.loc[np.random.choice(obj.index, size, replace),:]\n",
    "chosen_data = data.groupby('label', as_index=False).apply(fun)\n",
    "chosen_data.head()"
   ]
  },
  {
   "cell_type": "code",
   "execution_count": 6,
   "metadata": {},
   "outputs": [
    {
     "data": {
      "text/html": [
       "<div>\n",
       "<style scoped>\n",
       "    .dataframe tbody tr th:only-of-type {\n",
       "        vertical-align: middle;\n",
       "    }\n",
       "\n",
       "    .dataframe tbody tr th {\n",
       "        vertical-align: top;\n",
       "    }\n",
       "\n",
       "    .dataframe thead th {\n",
       "        text-align: right;\n",
       "    }\n",
       "</style>\n",
       "<table border=\"1\" class=\"dataframe\">\n",
       "  <thead>\n",
       "    <tr style=\"text-align: right;\">\n",
       "      <th></th>\n",
       "      <th>label</th>\n",
       "      <th>comment</th>\n",
       "    </tr>\n",
       "  </thead>\n",
       "  <tbody>\n",
       "    <tr>\n",
       "      <th>0</th>\n",
       "      <td>0</td>\n",
       "      <td>Well, that'll teach you what neutrality gets you.</td>\n",
       "    </tr>\n",
       "    <tr>\n",
       "      <th>1</th>\n",
       "      <td>0</td>\n",
       "      <td>Sorry!</td>\n",
       "    </tr>\n",
       "    <tr>\n",
       "      <th>2</th>\n",
       "      <td>0</td>\n",
       "      <td>TIL that someone was able to win a game of mon...</td>\n",
       "    </tr>\n",
       "    <tr>\n",
       "      <th>3</th>\n",
       "      <td>0</td>\n",
       "      <td>Go do it outside a school and see</td>\n",
       "    </tr>\n",
       "    <tr>\n",
       "      <th>4</th>\n",
       "      <td>0</td>\n",
       "      <td>Im just knocked out.</td>\n",
       "    </tr>\n",
       "  </tbody>\n",
       "</table>\n",
       "</div>"
      ],
      "text/plain": [
       "   label                                            comment\n",
       "0      0  Well, that'll teach you what neutrality gets you.\n",
       "1      0                                             Sorry!\n",
       "2      0  TIL that someone was able to win a game of mon...\n",
       "3      0                  Go do it outside a school and see\n",
       "4      0                               Im just knocked out."
      ]
     },
     "execution_count": 6,
     "metadata": {},
     "output_type": "execute_result"
    }
   ],
   "source": [
    "# Reset the indexes to remove the grouping into 0s and 1s\n",
    "chosen_data.reset_index(inplace = True)\n",
    "# Delete the columns that include the names of the indexes created from the groups\n",
    "chosen_data.drop(['level_0', 'level_1'], inplace = True, axis = 1)\n",
    "chosen_data.head()"
   ]
  },
  {
   "cell_type": "code",
   "execution_count": 7,
   "metadata": {},
   "outputs": [
    {
     "data": {
      "text/html": [
       "<div>\n",
       "<style scoped>\n",
       "    .dataframe tbody tr th:only-of-type {\n",
       "        vertical-align: middle;\n",
       "    }\n",
       "\n",
       "    .dataframe tbody tr th {\n",
       "        vertical-align: top;\n",
       "    }\n",
       "\n",
       "    .dataframe thead th {\n",
       "        text-align: right;\n",
       "    }\n",
       "</style>\n",
       "<table border=\"1\" class=\"dataframe\">\n",
       "  <thead>\n",
       "    <tr style=\"text-align: right;\">\n",
       "      <th></th>\n",
       "      <th>label</th>\n",
       "      <th>comment</th>\n",
       "    </tr>\n",
       "  </thead>\n",
       "  <tbody>\n",
       "    <tr>\n",
       "      <th>151609</th>\n",
       "      <td>1</td>\n",
       "      <td>Yes, but just imagine how much it would cost t...</td>\n",
       "    </tr>\n",
       "    <tr>\n",
       "      <th>151610</th>\n",
       "      <td>1</td>\n",
       "      <td>At level 6 Diana's ult isn't THAT much lower r...</td>\n",
       "    </tr>\n",
       "    <tr>\n",
       "      <th>151611</th>\n",
       "      <td>1</td>\n",
       "      <td>It only applies to females.</td>\n",
       "    </tr>\n",
       "    <tr>\n",
       "      <th>151612</th>\n",
       "      <td>1</td>\n",
       "      <td>your forgot the</td>\n",
       "    </tr>\n",
       "    <tr>\n",
       "      <th>151613</th>\n",
       "      <td>1</td>\n",
       "      <td>Future Trunks comes back in time after having ...</td>\n",
       "    </tr>\n",
       "  </tbody>\n",
       "</table>\n",
       "</div>"
      ],
      "text/plain": [
       "        label                                            comment\n",
       "151609      1  Yes, but just imagine how much it would cost t...\n",
       "151610      1  At level 6 Diana's ult isn't THAT much lower r...\n",
       "151611      1                        It only applies to females.\n",
       "151612      1                                    your forgot the\n",
       "151613      1  Future Trunks comes back in time after having ..."
      ]
     },
     "execution_count": 7,
     "metadata": {},
     "output_type": "execute_result"
    }
   ],
   "source": [

    "chosen_data.tail()"
   ]
  },
  {
   "cell_type": "code",
   "execution_count": 111,
   "metadata": {},
   "outputs": [
    {
     "data": {
      "text/plain": [
       "array([1, 1, 1, ..., 0, 1, 1])"
      ]
     },
     "execution_count": 111,
     "metadata": {},
     "output_type": "execute_result"
    }
   ],
   "source": [

    "Part 3: Exploratory Analysis & Data Visualization\n",
    "\n",
    "We made sure we got equal number of sarcastic and non-sarcastic comments. From the following histogram, we notice we got 50,000 comments from each group."
   ]
  },
  {
   "cell_type": "code",

   "execution_count": 8,
   "metadata": {},
   "outputs": [
    {
     "data": {
      "image/png": "[encoded data removed]",
      "text/plain": [
       "<Figure size 432x288 with 1 Axes>"
      ]
     },
     "metadata": {
      "needs_background": "light"
     },
     "output_type": "display_data"
    }
   ],
   "source": [
    "# Explore distribution of the data by label (0 -> non-sarcastic, 1 -> sarcastic)\n",
    "plt.hist(chosen_data.label)\n",
    "plt.xlabel('Label')\n",
    "plt.ylabel('Count')\n",
    "plt.title('Distribution of Comments by Label')\n",
    "plt.show()"
   ]
  },
  {
   "cell_type": "code",

   "execution_count": 9,
   "metadata": {},
   "outputs": [
    {
     "data": {

      "text/html": [
       "<div>\n",
       "<style scoped>\n",
       "    .dataframe tbody tr th:only-of-type {\n",
       "        vertical-align: middle;\n",
       "    }\n",
       "\n",
       "    .dataframe tbody tr th {\n",
       "        vertical-align: top;\n",
       "    }\n",
       "\n",
       "    .dataframe thead tr th {\n",
       "        text-align: left;\n",
       "    }\n",
       "\n",
       "    .dataframe thead tr:last-of-type th {\n",
       "        text-align: right;\n",
       "    }\n",
       "</style>\n",
       "<table border=\"1\" class=\"dataframe\">\n",
       "  <thead>\n",
       "    <tr>\n",
       "      <th></th>\n",
       "      <th colspan=\"4\" halign=\"left\">comment</th>\n",
       "    </tr>\n",
       "    <tr>\n",
       "      <th></th>\n",
       "      <th>count</th>\n",
       "      <th>unique</th>\n",
       "      <th>top</th>\n",
       "      <th>freq</th>\n",
       "    </tr>\n",
       "    <tr>\n",
       "      <th>label</th>\n",
       "      <th></th>\n",
       "      <th></th>\n",
       "      <th></th>\n",
       "      <th></th>\n",
       "    </tr>\n",
       "  </thead>\n",
       "  <tbody>\n",
       "    <tr>\n",
       "      <th>0</th>\n",
       "      <td>75807</td>\n",
       "      <td>68537</td>\n",
       "      <td>Thanks!</td>\n",
       "      <td>63</td>\n",
       "    </tr>\n",
       "    <tr>\n",
       "      <th>1</th>\n",
       "      <td>75807</td>\n",
       "      <td>68878</td>\n",
       "      <td>You forgot the</td>\n",
       "      <td>225</td>\n",
       "    </tr>\n",
       "  </tbody>\n",
       "</table>\n",
       "</div>"
      ],
      "text/plain": [
       "      comment                            \n",
       "        count unique             top freq\n",
       "label                                    \n",
       "0       75807  68537         Thanks!   63\n",
       "1       75807  68878  You forgot the  225"
      ]
     },
     "execution_count": 9,
     "metadata": {},
     "output_type": "execute_result"
    }
   ],
   "source": [

    "# Explore distribution of comments by label \n",
    "chosen_data.groupby('label').describe()"
   ]
  },
  {
   "cell_type": "code",

   "execution_count": 10,
   "metadata": {},
   "outputs": [
    {
     "name": "stdout",
     "output_type": "stream",
     "text": [

      "Requirement already satisfied: nltk in /opt/conda/lib/python3.7/site-packages (3.4.4)\n",
      "Requirement already satisfied: six in /opt/conda/lib/python3.7/site-packages (from nltk) (1.12.0)\n"
     ]
    }
   ],
   "source": [
    "print(svm_clf.score(X_train, y_train))\n",
    "print(svm_clf.score(X_test, y_test))"
   ]
  },
  {
   "cell_type": "code",

   "execution_count": 11,
   "metadata": {},
   "outputs": [],
   "source": [
    "# Random Forest Classifier\n",
    "\n",
    "rf_clf = RandomForestClassifier()"
   ]
  },
  {
   "cell_type": "code",

   "execution_count": 13,
   "metadata": {},
   "outputs": [
    {
     "name": "stderr",
     "output_type": "stream",
     "text": [
      "/opt/conda/lib/python3.7/site-packages/sklearn/ensemble/forest.py:246: FutureWarning: The default value of n_estimators will change from 10 in version 0.20 to 100 in 0.22.\n",
      "  \"10 in version 0.20 to 100 in 0.22.\", FutureWarning)\n"
     ]
    },
    {
     "data": {
      "text/plain": [
       "RandomForestClassifier(bootstrap=True, class_weight=None, criterion='gini',\n",
       "            max_depth=None, max_features='auto', max_leaf_nodes=None,\n",
       "            min_impurity_decrease=0.0, min_impurity_split=None,\n",
       "            min_samples_leaf=1, min_samples_split=2,\n",
       "            min_weight_fraction_leaf=0.0, n_estimators=10, n_jobs=None,\n",
       "            oob_score=False, random_state=None, verbose=0,\n",
       "            warm_start=False)"
      ]
     },
     "execution_count": 117,
     "metadata": {},
     "output_type": "execute_result"
    }
   ],
   "source": [

    "# nltk.download(\"all\")"
   ]
  },
  {
   "cell_type": "code",

   "execution_count": 14,
   "metadata": {},
   "outputs": [
    {
     "name": "stdout",
     "output_type": "stream",
     "text": [
      "0.9792233489982686\n",
      "0.6721408785120696\n"
     ]
    }
   ],
   "source": [

    "from nltk.corpus import stopwords #Use this to get rid of meaningless words like \"the, and, a\"\n",
    "from nltk.tokenize import word_tokenize #Split by word\n",
    "from nltk.tokenize import sent_tokenize #Split by sentence"
   ]
  },
  {
   "cell_type": "code",

   "execution_count": 15,
   "metadata": {},
   "outputs": [],
   "source": [
    "#Make sure all the comment column is str data type\n",
    "chosen_data['comment'] = chosen_data['comment'].astype(str)\n",
    "chosen_data['comment'] = chosen_data['comment'].astype(str)\n",
    "\n",
    "#non_sarcastic = required_data.loc[required_data['label'] == 0]\n",
    "#sarcastic = required_data.loc[required_data['label'] == 1]\n",
    "\n",
    "#drop rows with na values on the comment column\n",
    "#non_sarcastic['comment'].dropna(inplace=True)\n",
    "#sarcastic['comment'].dropna(inplace=True)\n",
    "\n",
    "#Make sure all the comment column is str data type\n",
    "#non_sarcastic['comment'] = non_sarcastic['comment'].astype(str)\n",
    "#sarcastic['comment'] = sarcastic['comment'].astype(str)\n",
    "#print(len(non_sarcastic), len(sarcastic))"
   ]
  },
  {
   "cell_type": "code",

   "execution_count": 16,
   "metadata": {},
   "outputs": [
    {
     "data": {
      "text/html": [
       "<div>\n",
       "<style scoped>\n",
       "    .dataframe tbody tr th:only-of-type {\n",
       "        vertical-align: middle;\n",
       "    }\n",
       "\n",
       "    .dataframe tbody tr th {\n",
       "        vertical-align: top;\n",
       "    }\n",
       "\n",
       "    .dataframe thead th {\n",
       "        text-align: right;\n",
       "    }\n",
       "</style>\n",
       "<table border=\"1\" class=\"dataframe\">\n",
       "  <thead>\n",
       "    <tr style=\"text-align: right;\">\n",
       "      <th></th>\n",
       "      <th>label</th>\n",
       "      <th>comment</th>\n",
       "      <th>POS_tag</th>\n",

       "    </tr>\n",
       "  </thead>\n",
       "  <tbody>\n",
       "    <tr>\n",
       "      <th>0</th>\n",
       "      <td>0</td>\n",

       "      <td>[Well, ,, that, 'll, teach, you, what, neutral...</td>\n",
       "      <td>[(Well, RB), (,, ,), (that, DT), ('ll, MD), (t...</td>\n",
       "    </tr>\n",
       "    <tr>\n",
       "      <th>1</th>\n",
       "      <td>0</td>\n",

       "      <td>[Sorry, !]</td>\n",
       "      <td>[(Sorry, NN), (!, .)]</td>\n",
       "    </tr>\n",
       "    <tr>\n",
       "      <th>2</th>\n",
       "      <td>0</td>\n",
       "      <td>[TIL, that, someone, was, able, to, win, a, ga...</td>\n",
       "      <td>[(TIL, NN), (that, IN), (someone, NN), (was, V...</td>\n",
       "    </tr>\n",
       "    <tr>\n",
       "      <th>3</th>\n",
       "      <td>0</td>\n",
       "      <td>[Go, do, it, outside, a, school, and, see]</td>\n",
       "      <td>[(Go, VB), (do, VBP), (it, PRP), (outside, IN)...</td>\n",
       "    </tr>\n",
       "    <tr>\n",
       "      <th>4</th>\n",
       "      <td>0</td>\n",
       "      <td>[Im, just, knocked, out, .]</td>\n",
       "      <td>[(Im, NNP), (just, RB), (knocked, VBD), (out, ...</td>\n",
       "    </tr>\n",
       "  </tbody>\n",
       "</table>\n",
       "</div>"
      ],
      "text/plain": [
       "   label                                            comment  \\\n",
       "0      0  [Well, ,, that, 'll, teach, you, what, neutral...   \n",
       "1      0                                         [Sorry, !]   \n",
       "2      0  [TIL, that, someone, was, able, to, win, a, ga...   \n",
       "3      0         [Go, do, it, outside, a, school, and, see]   \n",
       "4      0                        [Im, just, knocked, out, .]   \n",
       "\n",
       "                                             POS_tag  \n",
       "0  [(Well, RB), (,, ,), (that, DT), ('ll, MD), (t...  \n",
       "1                              [(Sorry, NN), (!, .)]  \n",
       "2  [(TIL, NN), (that, IN), (someone, NN), (was, V...  \n",
       "3  [(Go, VB), (do, VBP), (it, PRP), (outside, IN)...  \n",
       "4  [(Im, NNP), (just, RB), (knocked, VBD), (out, ...  "
      ]
     },
     "execution_count": 16,
     "metadata": {},
     "output_type": "execute_result"
    }
   ],
   "source": [
    "# Split the comments into words\n",
    "chosen_data['comment'] = chosen_data['comment'].apply(word_tokenize)\n",
    "# Apply Parts of Speech tagging on the words\n",
    "chosen_data['POS_tag'] = chosen_data['comment'].apply(nltk.pos_tag)\n",
    "chosen_data.head()"
   ]
  },
  {
   "cell_type": "code",
   "execution_count": 17,
   "metadata": {},
   "outputs": [
    {
     "data": {
      "text/html": [
       "<div>\n",
       "<style scoped>\n",
       "    .dataframe tbody tr th:only-of-type {\n",
       "        vertical-align: middle;\n",
       "    }\n",
       "\n",
       "    .dataframe tbody tr th {\n",
       "        vertical-align: top;\n",
       "    }\n",
       "\n",
       "    .dataframe thead th {\n",
       "        text-align: right;\n",
       "    }\n",
       "</style>\n",
       "<table border=\"1\" class=\"dataframe\">\n",
       "  <thead>\n",
       "    <tr style=\"text-align: right;\">\n",
       "      <th></th>\n",
       "      <th>label</th>\n",
       "      <th>comment</th>\n",
       "      <th>POS_tag</th>\n",
       "      <th>stem</th>\n",
       "    </tr>\n",
       "  </thead>\n",
       "  <tbody>\n",
       "    <tr>\n",
       "      <th>0</th>\n",
       "      <td>0</td>\n",
       "      <td>[Well, ,, that, 'll, teach, you, what, neutral...</td>\n",
       "      <td>[(Well, RB), (,, ,), (that, DT), ('ll, MD), (t...</td>\n",
       "      <td>[well, ,, that, ll, teach, you, what, neutral,...</td>\n",
       "    </tr>\n",
       "    <tr>\n",
       "      <th>1</th>\n",
       "      <td>0</td>\n",
       "      <td>[Sorry, !]</td>\n",
       "      <td>[(Sorry, NN), (!, .)]</td>\n",
       "      <td>[sorri, !]</td>\n",
       "    </tr>\n",
       "    <tr>\n",
       "      <th>2</th>\n",
       "      <td>0</td>\n",
       "      <td>[TIL, that, someone, was, able, to, win, a, ga...</td>\n",
       "      <td>[(TIL, NN), (that, IN), (someone, NN), (was, V...</td>\n",
       "      <td>[til, that, someon, was, abl, to, win, a, game...</td>\n",
       "    </tr>\n",
       "    <tr>\n",
       "      <th>3</th>\n",
       "      <td>0</td>\n",
       "      <td>[Go, do, it, outside, a, school, and, see]</td>\n",
       "      <td>[(Go, VB), (do, VBP), (it, PRP), (outside, IN)...</td>\n",
       "      <td>[go, do, it, outsid, a, school, and, see]</td>\n",
       "    </tr>\n",
       "    <tr>\n",
       "      <th>4</th>\n",
       "      <td>0</td>\n",
       "      <td>[Im, just, knocked, out, .]</td>\n",
       "      <td>[(Im, NNP), (just, RB), (knocked, VBD), (out, ...</td>\n",
       "      <td>[im, just, knock, out, .]</td>\n",
       "    </tr>\n",
       "  </tbody>\n",
       "</table>\n",
       "</div>"
      ],
      "text/plain": [
       "   label                                            comment  \\\n",
       "0      0  [Well, ,, that, 'll, teach, you, what, neutral...   \n",
       "1      0                                         [Sorry, !]   \n",
       "2      0  [TIL, that, someone, was, able, to, win, a, ga...   \n",
       "3      0         [Go, do, it, outside, a, school, and, see]   \n",
       "4      0                        [Im, just, knocked, out, .]   \n",
       "\n",
       "                                             POS_tag  \\\n",
       "0  [(Well, RB), (,, ,), (that, DT), ('ll, MD), (t...   \n",
       "1                              [(Sorry, NN), (!, .)]   \n",
       "2  [(TIL, NN), (that, IN), (someone, NN), (was, V...   \n",
       "3  [(Go, VB), (do, VBP), (it, PRP), (outside, IN)...   \n",
       "4  [(Im, NNP), (just, RB), (knocked, VBD), (out, ...   \n",
       "\n",
       "                                                stem  \n",
       "0  [well, ,, that, ll, teach, you, what, neutral,...  \n",
       "1                                         [sorri, !]  \n",
       "2  [til, that, someon, was, abl, to, win, a, game...  \n",
       "3          [go, do, it, outsid, a, school, and, see]  \n",
       "4                          [im, just, knock, out, .]  "
      ]
     },
     "execution_count": 17,
     "metadata": {},
     "output_type": "execute_result"
    }
   ],
   "source": [
    "# Apply stemming on the tokenized comments to get the roots of the words\n",
    "from nltk.stem.snowball import SnowballStemmer\n",
    "\n",
    "stemmer = SnowballStemmer(\"english\")\n",
    "\n",
    "chosen_data['stem'] = chosen_data['comment'].apply(lambda x: [stemmer.stem(y) for y in x])\n",
    "chosen_data.head()"
   ]
  },
  {
   "cell_type": "code",
   "execution_count": 38,
   "metadata": {},
   "outputs": [],
   "source": [
    "# Not sure if we'll need to lemmatize the words yet\n",
    "\n",
    "#from nltk.stem import WordNetLemmatizer\n",
    "#data['lemma'] = data['tokenized_by_word'].apply(WordNetLemmatizer)\n",
    "# df14.append(df24.append(df34.append(df44)))\n",
    "# df14.tail()"
   ]
  },
  {
   "cell_type": "markdown",
   "metadata": {},
   "source": [
    "### Predicting Sarcasm\n",
    "\n",
    "We were interested in trying different models for predicting a sarcastic comment.\n",
    "To determine the features and labels for the analysis, we decided to look at the comment itself as a feature and use the given sarcastic vs non-sarcastic classification as our label.\n",
    "\n",
    "Various articles and studies looked at sarcasm and attempted to predict using different features. For instance, an online tutorial only looked at TF-IDF as a feature, so we decided we wanted to experiment with that and see if we would get anything remotely close to their findings. Worth noting, however, that they looked at tweets with the #sarcasm tag, their dataset was significantly smaller than ours (N= ), and their training vs test data split was slightly unusual (training = 95%, test = 5%). \n",
    "\n",
    "To create a more reliable model, we decided to split our data into the more common 80-20 split for training and test subsets respectively. We also chose three main models to compare, acknowledging that some of them might fare slightly more poorly compared to the others. We also assumed TF-IDF vectorization of the comments alone would not be a good predictor for whether a comment is sarcastic or not. \n",
    "\n",
    "The three models we picked were:\n",
    "1. Logistic regression\n",
    "2. Support Vector Machine\n",
    "3. Random forest"
   ]
  },
  {
   "cell_type": "code",
   "execution_count": 18,
   "metadata": {},
   "outputs": [],
   "source": [
    "from sklearn.model_selection import train_test_split\n",
    "from sklearn.metrics import confusion_matrix\n",
    "from sklearn.svm import LinearSVC\n",
    "from sklearn.model_selection import cross_val_score\n",
    "from sklearn.naive_bayes import GaussianNB\n",
    "from sklearn.linear_model import LogisticRegression\n",
    "from sklearn.ensemble import RandomForestClassifier"
   ]
  },
  {
   "cell_type": "code",
   "execution_count": 19,
   "metadata": {},
   "outputs": [],
   "source": [
    "# Determine the features and labels for the models\n",
    "features = chosen_data['stem'].apply(lambda x: ' '.join(x))\n",
    "labels = chosen_data['label']"
   ]
  },
  {
   "cell_type": "code",
   "execution_count": 76,
   "metadata": {},
   "outputs": [],
   "source": [
    "#features"
   ]
  },
  {
   "cell_type": "markdown",
   "metadata": {},
   "source": [
    "We vectorized the comments here and used the TF-IDF list as the feature in our model."
   ]
  },
  {
   "cell_type": "code",
   "execution_count": 20,
   "metadata": {},
   "outputs": [],
   "source": [
    "# TF-IDF to vectorize the data\n",
    "\n",
    "from sklearn.feature_extraction.text import TfidfVectorizer\n",
    "vectorizer = TfidfVectorizer() # ask about max features\n",
    "features = list(features)\n",
    "X = vectorizer.fit_transform(features)"
   ]
  },
  {
   "cell_type": "code",
   "execution_count": 21,
   "metadata": {},
   "outputs": [
    {
     "name": "stdout",
     "output_type": "stream",
     "text": [
      "(151614, 45209)\n"
     ]
    }
   ],
   "source": [
    "#print(vectorizer.get_feature_names())\n",
    "print(X.shape)"
   ]
  },
  {
   "cell_type": "code",
   "execution_count": 22,
   "metadata": {},
   "outputs": [
    {
     "name": "stdout",
     "output_type": "stream",
     "text": [
      "  (0, 43471)\t0.2791418201220239\n",
      "  (0, 39614)\t0.17726836590534142\n",
      "  (0, 23948)\t0.3291728364522435\n",
      "  (0, 39263)\t0.47993327011500386\n",
      "  (0, 44815)\t0.34662750611178744\n",
      "  (0, 43581)\t0.2541067793962365\n",
      "  (0, 27735)\t0.5495512287536406\n",
      "  (0, 16895)\t0.25541658977810305\n",
      "  (1, 37131)\t1.0\n",
      "  (2, 39614)\t0.16188843396595326\n",
      "  (2, 40001)\t0.39305733655968983\n",
      "  (2, 37043)\t0.31509981472321025\n",
      "  (2, 43225)\t0.22068896392635715\n",
      "  (2, 2135)\t0.3768052536256888\n",
      "  (2, 40167)\t0.1487215256595992\n",
      "  (2, 43879)\t0.3495653799675294\n",
      "  (2, 16440)\t0.2766372193936578\n",
      "  (2, 28698)\t0.171211787563474\n",
      "  (2, 26569)\t0.5283641542594906\n",
      "  (3, 17259)\t0.34468955296473075\n",
      "  (3, 12108)\t0.2693570525998392\n",
      "  (3, 21185)\t0.20830029372263653\n",
      "  (3, 29346)\t0.5707448583604866\n",
      "  (3, 35022)\t0.5053419324144087\n",
      "  (3, 3300)\t0.2161025193095052\n",
      "  :\t:\n",
      "  (151610, 24259)\t0.32355504260114853\n",
      "  (151610, 32707)\t0.33470796180240836\n",
      "  (151610, 41381)\t0.35671972701204085\n",
      "  (151610, 11600)\t0.44872713833599426\n",
      "  (151610, 28053)\t0.47739476513789453\n",
      "  (151611, 40167)\t0.2114151534357746\n",
      "  (151611, 21185)\t0.2237419462971523\n",
      "  (151611, 3645)\t0.6298186723872584\n",
      "  (151611, 28944)\t0.3728509146855692\n",
      "  (151611, 14904)\t0.6079093762193307\n",
      "  (151612, 39634)\t0.2965269262853498\n",
      "  (151612, 44832)\t0.565724465154441\n",
      "  (151612, 15658)\t0.7694333054355552\n",
      "  (151613, 20416)\t0.1273194555685317\n",
      "  (151613, 18671)\t0.14380238348705027\n",
      "  (151613, 2561)\t0.22474082854428326\n",
      "  (151613, 4602)\t0.21931005360482206\n",
      "  (151613, 40021)\t0.190583753061549\n",
      "  (151613, 9177)\t0.21878364152363092\n",
      "  (151613, 17288)\t0.23353598504288212\n",
      "  (151613, 11876)\t0.35374925829395687\n",
      "  (151613, 16253)\t0.28651333367806203\n",
      "  (151613, 40916)\t0.4106383242109754\n",
      "  (151613, 43303)\t0.3442123698235498\n",
      "  (151613, 6123)\t0.48108561514740417\n"
     ]
    }
   ],
   "source": [
    "print(X)\n",
    "# X.toarray() # it only works if it's an array but why does it become all 0s?\n",
    "# X"
   ]
  },
  {
   "cell_type": "code",
   "execution_count": 99,
   "metadata": {},
   "outputs": [],
   "source": [
    "#print(X)"
   ]
  },
  {
   "cell_type": "code",
   "execution_count": 126,
   "metadata": {},
   "outputs": [
    {
     "data": {
      "text/html": [
       "<div>\n",
       "<style scoped>\n",
       "    .dataframe tbody tr th:only-of-type {\n",
       "        vertical-align: middle;\n",
       "    }\n",
       "\n",
       "    .dataframe tbody tr th {\n",
       "        vertical-align: top;\n",
       "    }\n",
       "\n",
       "    .dataframe thead th {\n",
       "        text-align: right;\n",
       "    }\n",
       "</style>\n",
       "<table border=\"1\" class=\"dataframe\">\n",
       "  <thead>\n",
       "    <tr style=\"text-align: right;\">\n",
       "      <th></th>\n",
       "      <th>label</th>\n",
       "      <th>comment</th>\n",
       "      <th>POS_tag</th>\n",
       "      <th>stem</th>\n",
       "    </tr>\n",
       "  </thead>\n",
       "  <tbody>\n",
       "    <tr>\n",
       "      <th>0</th>\n",
       "      <td>0</td>\n",
       "      <td>[And, you, mention, hotel, ,, where, is, the, ...</td>\n",
       "      <td>[(And, CC), (you, PRP), (mention, VBP), (hotel...</td>\n",
       "      <td>[and, you, mention, hotel, ,, where, is, the, ...</td>\n",
       "    </tr>\n",
       "    <tr>\n",
       "      <th>1</th>\n",
       "      <td>0</td>\n",
       "      <td>[It, 's, definitely, F, ), A, &amp;, amp, ;, T]</td>\n",
       "      <td>[(It, PRP), ('s, VBZ), (definitely, RB), (F, N...</td>\n",
       "      <td>[it, 's, definit, f, ), a, &amp;, amp, ;, t]</td>\n",
       "    </tr>\n",
       "    <tr>\n",
       "      <th>2</th>\n",
       "      <td>0</td>\n",
       "      <td>[We, finally, figured, out, who, Katy, is, !]</td>\n",
       "      <td>[(We, PRP), (finally, RB), (figured, VBD), (ou...</td>\n",
       "      <td>[we, final, figur, out, who, kati, is, !]</td>\n",
       "    </tr>\n",
       "    <tr>\n",
       "      <th>3</th>\n",
       "      <td>0</td>\n",
       "      <td>[That, sounds, like, a, solution, .]</td>\n",
       "      <td>[(That, DT), (sounds, VBZ), (like, IN), (a, DT...</td>\n",
       "      <td>[that, sound, like, a, solut, .]</td>\n",
       "    </tr>\n",
       "    <tr>\n",
       "      <th>4</th>\n",
       "      <td>0</td>\n",
       "      <td>[Yeah, ,, rekkles, really, did, so, well, with...</td>\n",
       "      <td>[(Yeah, UH), (,, ,), (rekkles, NNS), (really, ...</td>\n",
       "      <td>[yeah, ,, rekkl, realli, did, so, well, with, ...</td>\n",
       "    </tr>\n",
       "  </tbody>\n",
       "</table>\n",
       "</div>"
      ],
      "text/plain": [
       "   label                                            comment  \\\n",
       "0      0  [And, you, mention, hotel, ,, where, is, the, ...   \n",
       "1      0        [It, 's, definitely, F, ), A, &, amp, ;, T]   \n",
       "2      0      [We, finally, figured, out, who, Katy, is, !]   \n",
       "3      0               [That, sounds, like, a, solution, .]   \n",
       "4      0  [Yeah, ,, rekkles, really, did, so, well, with...   \n",
       "\n",
       "                                             POS_tag  \\\n",
       "0  [(And, CC), (you, PRP), (mention, VBP), (hotel...   \n",
       "1  [(It, PRP), ('s, VBZ), (definitely, RB), (F, N...   \n",
       "2  [(We, PRP), (finally, RB), (figured, VBD), (ou...   \n",
       "3  [(That, DT), (sounds, VBZ), (like, IN), (a, DT...   \n",
       "4  [(Yeah, UH), (,, ,), (rekkles, NNS), (really, ...   \n",
       "\n",
       "                                                stem  \n",
       "0  [and, you, mention, hotel, ,, where, is, the, ...  \n",
       "1           [it, 's, definit, f, ), a, &, amp, ;, t]  \n",
       "2          [we, final, figur, out, who, kati, is, !]  \n",
       "3                   [that, sound, like, a, solut, .]  \n",
       "4  [yeah, ,, rekkl, realli, did, so, well, with, ...  "
      ]
     },
     "execution_count": 126,
     "metadata": {},
     "output_type": "execute_result"
    }
   ],
   "source": [
    "chosen_data.head()"
   ]
  },
  {
   "cell_type": "code",
   "execution_count": 23,
   "metadata": {},
   "outputs": [],
   "source": [
    "# Split data into Training and Test data chosen_data[['comment', 'POS_tag', 'stem']]\n",
    "\n",
    "X_train, X_test, y_train, y_test = train_test_split(X, chosen_data.label, test_size=0.2, random_state=0)"
   ]
  },
  {
   "cell_type": "code",
   "execution_count": 25,
   "metadata": {},
   "outputs": [],
   "source": [
    "# Logistic Regression\n",
    "\n",
    "log_clf = LogisticRegression(solver='lbfgs', max_iter = 300).fit(X_train, y_train)"
   ]
  },
  {
   "cell_type": "code",
   "execution_count": 26,
   "metadata": {},
   "outputs": [
    {
     "data": {
      "text/plain": [
       "array([0, 0, 0, ..., 1, 1, 0])"
      ]
     },
     "execution_count": 26,
     "metadata": {},
     "output_type": "execute_result"
    }
   ],
   "source": [
    "# Predict the test values\n",
    "\n",
    "log_clf.predict(X_test)"
   ]
  },
  {
   "cell_type": "code",
   "execution_count": 27,
   "metadata": {},
   "outputs": [
    {
     "name": "stdout",
     "output_type": "stream",
     "text": [
      "0.7392881582310311\n",
      "0.6829469379678792\n"
     ]
    }
   ],
   "source": [
    "# Logistic regression score\n",
    "print(log_clf.score(X_train, y_train))\n",
    "print(log_clf.score(X_test, y_test))"
   ]
  },
  {
   "cell_type": "code",
   "execution_count": 28,
   "metadata": {},
   "outputs": [],
   "source": [
    "# SVM model\n",
    "\n",
    "svm_clf = LinearSVC()"
   ]
  },
  {
   "cell_type": "code",
   "execution_count": 29,
   "metadata": {},
   "outputs": [
    {
     "data": {
      "text/plain": [
       "LinearSVC(C=1.0, class_weight=None, dual=True, fit_intercept=True,\n",
       "     intercept_scaling=1, loss='squared_hinge', max_iter=1000,\n",
       "     multi_class='ovr', penalty='l2', random_state=None, tol=0.0001,\n",
       "     verbose=0)"
      ]
     },
     "execution_count": 29,
     "metadata": {},
     "output_type": "execute_result"
    }
   ],
   "source": [
    "# Training the model\n",
    "\n",
    "svm_clf.fit(X_train, y_train)"
   ]
  },
  {
   "cell_type": "code",
   "execution_count": 30,
   "metadata": {},
   "outputs": [
    {
     "name": "stdout",
     "output_type": "stream",
     "text": [
      "0.7922764261157053\n",
      "0.6805395244533852\n"
     ]
    }
   ],
   "source": [
    "print(svm_clf.score(X_train, y_train))\n",
    "print(svm_clf.score(X_test, y_test))"
   ]
  },
  {
   "cell_type": "code",
   "execution_count": 31,
   "metadata": {},
   "outputs": [],
   "source": [
    "# Random Forest Classifier\n",
    "\n",
    "rf_clf = RandomForestClassifier(n_estimators = 10)"
   ]
  },
  {
   "cell_type": "code",
   "execution_count": 32,
   "metadata": {},
   "outputs": [
    {
     "data": {
      "text/plain": [
       "RandomForestClassifier(bootstrap=True, class_weight=None, criterion='gini',\n",
       "            max_depth=None, max_features='auto', max_leaf_nodes=None,\n",
       "            min_impurity_decrease=0.0, min_impurity_split=None,\n",
       "            min_samples_leaf=1, min_samples_split=2,\n",
       "            min_weight_fraction_leaf=0.0, n_estimators=10, n_jobs=None,\n",
       "            oob_score=False, random_state=None, verbose=0,\n",
       "            warm_start=False)"
      ]
     },
     "execution_count": 32,
     "metadata": {},
     "output_type": "execute_result"
    }
   ],
   "source": [
    "rf_clf.fit(X_train, y_train)"
   ]
  },
  {
   "cell_type": "code",
   "execution_count": 33,
   "metadata": {
    "scrolled": false
   },
   "outputs": [
    {
     "name": "stdout",
     "output_type": "stream",
     "text": [
      "0.9794296361642661\n",
      "0.6888500478184876\n"
     ]
    }
   ],
   "source": [
    "print(rf_clf.score(X_train, y_train))\n",
    "print(rf_clf.score(X_test, y_test))"
   ]
  },
  {
   "cell_type": "markdown",
   "metadata": {},
   "source": [
    "After confirming our suspicions that using TF-IDF on the raw tokenized comments would yield very modest results, we decided to continue exploring how we can fix our models. First, we used chunking to break up the comments into more meaningful noun phrases. "
   ]
  },
  {
   "cell_type": "code",
   "execution_count": 34,
   "metadata": {},
   "outputs": [],
   "source": [
    "# Use reg ex to chunk the sentences into noun phrases\n",
    "np_chunking = \"NP: {<DT>?<JJ>*<NN>}\"\n",
    "chunk_parser = nltk.RegexpParser(np_chunking)\n",
    "chosen_data['noun_phrase_chunk'] = chosen_data['POS_tag'].apply(chunk_parser.parse)"
   ]
  },
  {
   "cell_type": "markdown",
   "metadata": {},
   "source": [
    "Notice how the chunked sentences column groups the nouns into groups with"
   ]
  },
  {
   "cell_type": "code",
   "execution_count": 35,
   "metadata": {},
   "outputs": [
    {
     "data": {
      "text/html": [
       "<div>\n",
       "<style scoped>\n",
       "    .dataframe tbody tr th:only-of-type {\n",
       "        vertical-align: middle;\n",
       "    }\n",
       "\n",
       "    .dataframe tbody tr th {\n",
       "        vertical-align: top;\n",
       "    }\n",
       "\n",
       "    .dataframe thead th {\n",
       "        text-align: right;\n",
       "    }\n",
       "</style>\n",
       "<table border=\"1\" class=\"dataframe\">\n",
       "  <thead>\n",
       "    <tr style=\"text-align: right;\">\n",
       "      <th></th>\n",
       "      <th>POS_tag</th>\n",
       "      <th>noun_phrase_chunk</th>\n",
       "    </tr>\n",
       "  </thead>\n",
       "  <tbody>\n",
       "    <tr>\n",
       "      <th>0</th>\n",
       "      <td>[(Well, RB), (,, ,), (that, DT), ('ll, MD), (t...</td>\n",
       "      <td>[(Well, RB), (,, ,), (that, DT), ('ll, MD), (t...</td>\n",
       "    </tr>\n",
       "    <tr>\n",
       "      <th>1</th>\n",
       "      <td>[(Sorry, NN), (!, .)]</td>\n",
       "      <td>[[(Sorry, NN)], (!, .)]</td>\n",
       "    </tr>\n",
       "    <tr>\n",
       "      <th>2</th>\n",
       "      <td>[(TIL, NN), (that, IN), (someone, NN), (was, V...</td>\n",
       "      <td>[[(TIL, NN)], (that, IN), [(someone, NN)], (wa...</td>\n",
       "    </tr>\n",
       "    <tr>\n",
       "      <th>3</th>\n",
       "      <td>[(Go, VB), (do, VBP), (it, PRP), (outside, IN)...</td>\n",
       "      <td>[(Go, VB), (do, VBP), (it, PRP), (outside, IN)...</td>\n",
       "    </tr>\n",
       "    <tr>\n",
       "      <th>4</th>\n",
       "      <td>[(Im, NNP), (just, RB), (knocked, VBD), (out, ...</td>\n",
       "      <td>[(Im, NNP), (just, RB), (knocked, VBD), (out, ...</td>\n",
       "    </tr>\n",
       "    <tr>\n",
       "      <th>5</th>\n",
       "      <td>[(4890, CD), (35, CD), (shipped, VBN), (., .)]</td>\n",
       "      <td>[(4890, CD), (35, CD), (shipped, VBN), (., .)]</td>\n",
       "    </tr>\n",
       "    <tr>\n",
       "      <th>6</th>\n",
       "      <td>[(This, DT), (needs, VBZ), (to, TO), (be, VB),...</td>\n",
       "      <td>[(This, DT), (needs, VBZ), (to, TO), (be, VB),...</td>\n",
       "    </tr>\n",
       "    <tr>\n",
       "      <th>7</th>\n",
       "      <td>[(Thinking, VBG), (the, DT), (judge, NN), (is,...</td>\n",
       "      <td>[(Thinking, VBG), [(the, DT), (judge, NN)], (i...</td>\n",
       "    </tr>\n",
       "    <tr>\n",
       "      <th>8</th>\n",
       "      <td>[(The, DT), (end, NN), (is, VBZ), (always, RB)...</td>\n",
       "      <td>[[(The, DT), (end, NN)], (is, VBZ), (always, R...</td>\n",
       "    </tr>\n",
       "    <tr>\n",
       "      <th>9</th>\n",
       "      <td>[(Did, NNP), (not, RB), (expect, VB), (to, TO)...</td>\n",
       "      <td>[(Did, NNP), (not, RB), (expect, VB), (to, TO)...</td>\n",
       "    </tr>\n",
       "  </tbody>\n",
       "</table>\n",
       "</div>"
      ],
      "text/plain": [
       "                                             POS_tag  \\\n",
       "0  [(Well, RB), (,, ,), (that, DT), ('ll, MD), (t...   \n",
       "1                              [(Sorry, NN), (!, .)]   \n",
       "2  [(TIL, NN), (that, IN), (someone, NN), (was, V...   \n",
       "3  [(Go, VB), (do, VBP), (it, PRP), (outside, IN)...   \n",
       "4  [(Im, NNP), (just, RB), (knocked, VBD), (out, ...   \n",
       "5     [(4890, CD), (35, CD), (shipped, VBN), (., .)]   \n",
       "6  [(This, DT), (needs, VBZ), (to, TO), (be, VB),...   \n",
       "7  [(Thinking, VBG), (the, DT), (judge, NN), (is,...   \n",
       "8  [(The, DT), (end, NN), (is, VBZ), (always, RB)...   \n",
       "9  [(Did, NNP), (not, RB), (expect, VB), (to, TO)...   \n",
       "\n",
       "                                   noun_phrase_chunk  \n",
       "0  [(Well, RB), (,, ,), (that, DT), ('ll, MD), (t...  \n",
       "1                            [[(Sorry, NN)], (!, .)]  \n",
       "2  [[(TIL, NN)], (that, IN), [(someone, NN)], (wa...  \n",
       "3  [(Go, VB), (do, VBP), (it, PRP), (outside, IN)...  \n",
       "4  [(Im, NNP), (just, RB), (knocked, VBD), (out, ...  \n",
       "5     [(4890, CD), (35, CD), (shipped, VBN), (., .)]  \n",
       "6  [(This, DT), (needs, VBZ), (to, TO), (be, VB),...  \n",
       "7  [(Thinking, VBG), [(the, DT), (judge, NN)], (i...  \n",
       "8  [[(The, DT), (end, NN)], (is, VBZ), (always, R...  \n",
       "9  [(Did, NNP), (not, RB), (expect, VB), (to, TO)...  "
      ]
     },
     "execution_count": 35,
     "metadata": {},
     "output_type": "execute_result"
    }
   ],
   "source": [
    "chosen_data.iloc[0:10, 2:5:2]"
   ]
  },
  {
   "cell_type": "code",
   "execution_count": 36,
   "metadata": {},
   "outputs": [
    {
     "data": {
      "text/html": [
       "<div>\n",
       "<style scoped>\n",
       "    .dataframe tbody tr th:only-of-type {\n",
       "        vertical-align: middle;\n",
       "    }\n",
       "\n",
       "    .dataframe tbody tr th {\n",
       "        vertical-align: top;\n",
       "    }\n",
       "\n",
       "    .dataframe thead th {\n",
       "        text-align: right;\n",
       "    }\n",
       "</style>\n",
       "<table border=\"1\" class=\"dataframe\">\n",
       "  <thead>\n",
       "    <tr style=\"text-align: right;\">\n",
       "      <th></th>\n",
       "      <th>label</th>\n",
       "      <th>comment</th>\n",
       "      <th>POS_tag</th>\n",
       "      <th>stem</th>\n",
       "      <th>noun_phrase_chunk</th>\n",
       "    </tr>\n",
       "  </thead>\n",
       "  <tbody>\n",
       "    <tr>\n",
       "      <th>151609</th>\n",
       "      <td>1</td>\n",
       "      <td>[Yes, ,, but, just, imagine, how, much, it, wo...</td>\n",
       "      <td>[(Yes, UH), (,, ,), (but, CC), (just, RB), (im...</td>\n",
       "      <td>[yes, ,, but, just, imagin, how, much, it, wou...</td>\n",
       "      <td>[(Yes, UH), (,, ,), (but, CC), (just, RB), (im...</td>\n",
       "    </tr>\n",
       "    <tr>\n",
       "      <th>151610</th>\n",
       "      <td>1</td>\n",
       "      <td>[At, level, 6, Diana, 's, ult, is, n't, THAT, ...</td>\n",
       "      <td>[(At, IN), (level, NN), (6, CD), (Diana, NNP),...</td>\n",
       "      <td>[at, level, 6, diana, 's, ult, is, n't, that, ...</td>\n",
       "      <td>[(At, IN), [(level, NN)], (6, CD), (Diana, NNP...</td>\n",
       "    </tr>\n",
       "    <tr>\n",
       "      <th>151611</th>\n",
       "      <td>1</td>\n",
       "      <td>[It, only, applies, to, females, .]</td>\n",
       "      <td>[(It, PRP), (only, RB), (applies, VBZ), (to, T...</td>\n",
       "      <td>[it, onli, appli, to, femal, .]</td>\n",
       "      <td>[(It, PRP), (only, RB), (applies, VBZ), (to, T...</td>\n",
       "    </tr>\n",
       "    <tr>\n",
       "      <th>151612</th>\n",
       "      <td>1</td>\n",
       "      <td>[your, forgot, the]</td>\n",
       "      <td>[(your, PRP$), (forgot, VBD), (the, DT)]</td>\n",
       "      <td>[your, forgot, the]</td>\n",
       "      <td>[(your, PRP$), (forgot, VBD), (the, DT)]</td>\n",
       "    </tr>\n",
       "    <tr>\n",
       "      <th>151613</th>\n",
       "      <td>1</td>\n",
       "      <td>[Future, Trunks, comes, back, in, time, after,...</td>\n",
       "      <td>[(Future, JJ), (Trunks, NNP), (comes, VBZ), (b...</td>\n",
       "      <td>[futur, trunk, come, back, in, time, after, ha...</td>\n",
       "      <td>[(Future, JJ), (Trunks, NNP), (comes, VBZ), (b...</td>\n",
       "    </tr>\n",
       "  </tbody>\n",
       "</table>\n",
       "</div>"
      ],
      "text/plain": [
       "        label                                            comment  \\\n",
       "151609      1  [Yes, ,, but, just, imagine, how, much, it, wo...   \n",
       "151610      1  [At, level, 6, Diana, 's, ult, is, n't, THAT, ...   \n",
       "151611      1                [It, only, applies, to, females, .]   \n",
       "151612      1                                [your, forgot, the]   \n",
       "151613      1  [Future, Trunks, comes, back, in, time, after,...   \n",
       "\n",
       "                                                  POS_tag  \\\n",
       "151609  [(Yes, UH), (,, ,), (but, CC), (just, RB), (im...   \n",
       "151610  [(At, IN), (level, NN), (6, CD), (Diana, NNP),...   \n",
       "151611  [(It, PRP), (only, RB), (applies, VBZ), (to, T...   \n",
       "151612           [(your, PRP$), (forgot, VBD), (the, DT)]   \n",
       "151613  [(Future, JJ), (Trunks, NNP), (comes, VBZ), (b...   \n",
       "\n",
       "                                                     stem  \\\n",
       "151609  [yes, ,, but, just, imagin, how, much, it, wou...   \n",
       "151610  [at, level, 6, diana, 's, ult, is, n't, that, ...   \n",
       "151611                    [it, onli, appli, to, femal, .]   \n",
       "151612                                [your, forgot, the]   \n",
       "151613  [futur, trunk, come, back, in, time, after, ha...   \n",
       "\n",
       "                                        noun_phrase_chunk  \n",
       "151609  [(Yes, UH), (,, ,), (but, CC), (just, RB), (im...  \n",
       "151610  [(At, IN), [(level, NN)], (6, CD), (Diana, NNP...  \n",
       "151611  [(It, PRP), (only, RB), (applies, VBZ), (to, T...  \n",
       "151612           [(your, PRP$), (forgot, VBD), (the, DT)]  \n",
       "151613  [(Future, JJ), (Trunks, NNP), (comes, VBZ), (b...  "
      ]
     },
     "execution_count": 36,
     "metadata": {},
     "output_type": "execute_result"
    }
   ],
   "source": [
    "chosen_data.tail()"
   ]
  },
  {
   "cell_type": "code",
   "execution_count": 37,
   "metadata": {},
   "outputs": [],
   "source": [
    "joined_tag = []\n",
    "for index, row in chosen_data.iterrows():\n",
    "    joined_tag.append(' '.join([word + \"_\" + pos for word, pos in row['POS_tag']]))\n",
    "chosen_data['joined_POS_tag'] = joined_tag.copy()"
   ]
  },
  {
   "cell_type": "code",
   "execution_count": 38,
   "metadata": {},
   "outputs": [
    {
     "data": {
      "text/html": [
       "<div>\n",
       "<style scoped>\n",
       "    .dataframe tbody tr th:only-of-type {\n",
       "        vertical-align: middle;\n",
       "    }\n",
       "\n",
       "    .dataframe tbody tr th {\n",
       "        vertical-align: top;\n",
       "    }\n",
       "\n",
       "    .dataframe thead th {\n",
       "        text-align: right;\n",
       "    }\n",
       "</style>\n",
       "<table border=\"1\" class=\"dataframe\">\n",
       "  <thead>\n",
       "    <tr style=\"text-align: right;\">\n",
       "      <th></th>\n",
       "      <th>label</th>\n",
       "      <th>comment</th>\n",
       "      <th>POS_tag</th>\n",
       "      <th>stem</th>\n",
       "      <th>noun_phrase_chunk</th>\n",
       "      <th>joined_POS_tag</th>\n",
       "    </tr>\n",
       "  </thead>\n",
       "  <tbody>\n",
       "    <tr>\n",
       "      <th>0</th>\n",
       "      <td>0</td>\n",
       "      <td>[Well, ,, that, 'll, teach, you, what, neutral...</td>\n",
       "      <td>[(Well, RB), (,, ,), (that, DT), ('ll, MD), (t...</td>\n",
       "      <td>[well, ,, that, ll, teach, you, what, neutral,...</td>\n",
       "      <td>[(Well, RB), (,, ,), (that, DT), ('ll, MD), (t...</td>\n",
       "      <td>Well_RB ,_, that_DT 'll_MD teach_VB you_PRP wh...</td>\n",
       "    </tr>\n",
       "    <tr>\n",
       "      <th>1</th>\n",
       "      <td>0</td>\n",
       "      <td>[Sorry, !]</td>\n",
       "      <td>[(Sorry, NN), (!, .)]</td>\n",
       "      <td>[sorri, !]</td>\n",
       "      <td>[[(Sorry, NN)], (!, .)]</td>\n",
       "      <td>Sorry_NN !_.</td>\n",
       "    </tr>\n",
       "    <tr>\n",
       "      <th>2</th>\n",
       "      <td>0</td>\n",

       "      <td>[TIL, that, someone, was, able, to, win, a, ga...</td>\n",
       "      <td>[(TIL, NN), (that, IN), (someone, NN), (was, V...</td>\n",
       "      <td>[til, that, someon, was, abl, to, win, a, game...</td>\n",
       "      <td>[[(TIL, NN)], (that, IN), [(someone, NN)], (wa...</td>\n",
       "      <td>TIL_NN that_IN someone_NN was_VBD able_JJ to_T...</td>\n",
       "    </tr>\n",
       "    <tr>\n",
       "      <th>3</th>\n",
       "      <td>0</td>\n",

       "      <td>[Go, do, it, outside, a, school, and, see]</td>\n",
       "      <td>[(Go, VB), (do, VBP), (it, PRP), (outside, IN)...</td>\n",
       "      <td>[go, do, it, outsid, a, school, and, see]</td>\n",
       "      <td>[(Go, VB), (do, VBP), (it, PRP), (outside, IN)...</td>\n",
       "      <td>Go_VB do_VBP it_PRP outside_IN a_DT school_NN ...</td>\n",
       "    </tr>\n",
       "    <tr>\n",
       "      <th>4</th>\n",
       "      <td>0</td>\n",

       "      <td>[Im, just, knocked, out, .]</td>\n",
       "      <td>[(Im, NNP), (just, RB), (knocked, VBD), (out, ...</td>\n",
       "      <td>[im, just, knock, out, .]</td>\n",
       "      <td>[(Im, NNP), (just, RB), (knocked, VBD), (out, ...</td>\n",
       "      <td>Im_NNP just_RB knocked_VBD out_RP ._.</td>\n",
       "    </tr>\n",
       "  </tbody>\n",
       "</table>\n",
       "</div>"
      ],
      "text/plain": [
       "   label                                            comment  \\\n",

       "0      0  [Well, ,, that, 'll, teach, you, what, neutral...   \n",
       "1      0                                         [Sorry, !]   \n",
       "2      0  [TIL, that, someone, was, able, to, win, a, ga...   \n",
       "3      0         [Go, do, it, outside, a, school, and, see]   \n",
       "4      0                        [Im, just, knocked, out, .]   \n",
       "\n",
       "                                             POS_tag  \\\n",
       "0  [(Well, RB), (,, ,), (that, DT), ('ll, MD), (t...   \n",
       "1                              [(Sorry, NN), (!, .)]   \n",
       "2  [(TIL, NN), (that, IN), (someone, NN), (was, V...   \n",
       "3  [(Go, VB), (do, VBP), (it, PRP), (outside, IN)...   \n",
       "4  [(Im, NNP), (just, RB), (knocked, VBD), (out, ...   \n",
       "\n",
       "                                                stem  \\\n",
       "0  [well, ,, that, ll, teach, you, what, neutral,...   \n",
       "1                                         [sorri, !]   \n",
       "2  [til, that, someon, was, abl, to, win, a, game...   \n",
       "3          [go, do, it, outsid, a, school, and, see]   \n",
       "4                          [im, just, knock, out, .]   \n",
       "\n",
       "                                   noun_phrase_chunk  \\\n",
       "0  [(Well, RB), (,, ,), (that, DT), ('ll, MD), (t...   \n",
       "1                            [[(Sorry, NN)], (!, .)]   \n",
       "2  [[(TIL, NN)], (that, IN), [(someone, NN)], (wa...   \n",
       "3  [(Go, VB), (do, VBP), (it, PRP), (outside, IN)...   \n",
       "4  [(Im, NNP), (just, RB), (knocked, VBD), (out, ...   \n",
       "\n",
       "                                      joined_POS_tag  \n",
       "0  Well_RB ,_, that_DT 'll_MD teach_VB you_PRP wh...  \n",
       "1                                       Sorry_NN !_.  \n",
       "2  TIL_NN that_IN someone_NN was_VBD able_JJ to_T...  \n",
       "3  Go_VB do_VBP it_PRP outside_IN a_DT school_NN ...  \n",
       "4              Im_NNP just_RB knocked_VBD out_RP ._.  "
      ]
     },
     "execution_count": 38,
     "metadata": {},
     "output_type": "execute_result"
    }
   ],
   "source": [
    "chosen_data.head()"

   ]
  },
  {
   "cell_type": "code",
   "execution_count": 39,
   "metadata": {},
   "outputs": [],
   "source": [
    "features2 = chosen_data['joined_POS_tag']\n",
    "#features2"
   ]
  },
  {
   "cell_type": "code",
   "execution_count": 40,
   "metadata": {},
   "outputs": [],
   "source": [
    "features2 = list(features2)\n",
    "X2 = vectorizer.fit_transform(features2)"
   ]
  },
  {
   "cell_type": "code",
   "execution_count": 41,
   "metadata": {},
   "outputs": [
    {
     "data": {
      "text/plain": [
       "<151614x95068 sparse matrix of type '<class 'numpy.float64'>'\n",
       "\twith 1561732 stored elements in Compressed Sparse Row format>"
      ]
     },
     "execution_count": 41,
     "metadata": {},
     "output_type": "execute_result"
    }
   ],
   "source": [
    "X2"
   ]
  },
  {
   "cell_type": "code",
   "execution_count": 43,
   "metadata": {},
   "outputs": [],
   "source": [
    "#print(X2)"
   ]
  },
  {
   "cell_type": "code",
   "execution_count": 44,
   "metadata": {},
   "outputs": [],
   "source": [
    "# Split data into Training and Test data chosen_data[['comment', 'POS_tag', 'stem']]\n",
    "\n",
    "X_train, X_test, y_train, y_test = train_test_split(X2, chosen_data.label, test_size=0.2, random_state=0)"
   ]
  },
  {
   "cell_type": "code",
   "execution_count": 46,
   "metadata": {},
   "outputs": [],
   "source": [
    "# Logistic Regression\n",
    "\n",
    "log_clf = LogisticRegression(solver='lbfgs', max_iter = 300).fit(X_train, y_train)"
   ]
  },
  {
   "cell_type": "code",
   "execution_count": 47,
   "metadata": {},
   "outputs": [
    {
     "name": "stdout",
     "output_type": "stream",
     "text": [
      "0.7819541433412207\n",
      "0.6916861788081654\n"
     ]
    }
   ],
   "source": [
    "# Logistic regression score\n",
    "print(log_clf.score(X_train, y_train))\n",
    "print(log_clf.score(X_test, y_test))"
   ]
  },
  {
   "cell_type": "code",
   "execution_count": 48,
   "metadata": {},
   "outputs": [
    {
     "name": "stdout",
     "output_type": "stream",
     "text": [
      "0.8720515124782547\n",
      "0.6900702437093955\n"
     ]
    }
   ],
   "source": [
    "# SVM model\n",
    "svm_clf = LinearSVC()\n",
    "\n",
    "# Training the model\n",
    "svm_clf.fit(X_train, y_train)\n",
    "\n",
    "print(svm_clf.score(X_train, y_train))\n",
    "print(svm_clf.score(X_test, y_test))"
   ]
  },
  {
   "cell_type": "code",
   "execution_count": 49,
   "metadata": {},
   "outputs": [
    {
     "name": "stdout",
     "output_type": "stream",
     "text": [
      "0.980196387201029\n",
      "0.6772746759885235\n"
     ]
    }
   ],
   "source": [
    "# Random Forest Classifier\n",
    "\n",
    "rf_clf = RandomForestClassifier(n_estimators = 10)\n",
    "\n",
    "rf_clf.fit(X_train, y_train)\n",
    "\n",
    "print(rf_clf.score(X_train, y_train))\n",
    "print(rf_clf.score(X_test, y_test))"
   ]
  },
  {
   "cell_type": "code",
   "execution_count": null,
   "metadata": {},
   "outputs": [],
   "source": []
  },
  {
   "cell_type": "code",
   "execution_count": null,
   "metadata": {},
   "outputs": [],
   "source": []
  }
 ],
 "metadata": {
  "kernelspec": {
   "display_name": "Python 3",
   "language": "python",
   "name": "python3"
  },
  "language_info": {
   "codemirror_mode": {
    "name": "ipython",
    "version": 3
   },
   "file_extension": ".py",
   "mimetype": "text/x-python",
   "name": "python",
   "nbconvert_exporter": "python",
   "pygments_lexer": "ipython3",
   "version": "3.7.3"
  }
 },
 "nbformat": 4,
 "nbformat_minor": 2
}
